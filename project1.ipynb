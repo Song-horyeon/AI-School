{
  "nbformat": 4,
  "nbformat_minor": 0,
  "metadata": {
    "colab": {
      "name": "Untitled0.ipynb",
      "provenance": [],
      "collapsed_sections": [],
      "authorship_tag": "ABX9TyO+zYBGu1ZVwxOyrkf0aNK0",
      "include_colab_link": true
    },
    "kernelspec": {
      "name": "python3",
      "display_name": "Python 3"
    }
  },
  "cells": [
    {
      "cell_type": "markdown",
      "metadata": {
        "id": "view-in-github",
        "colab_type": "text"
      },
      "source": [
        "<a href=\"https://colab.research.google.com/github/Song-horyeon/AI-School/blob/master/project1.ipynb\" target=\"_parent\"><img src=\"https://colab.research.google.com/assets/colab-badge.svg\" alt=\"Open In Colab\"/></a>"
      ]
    },
    {
      "cell_type": "markdown",
      "metadata": {
        "id": "dNgx3y0Ka3vK",
        "colab_type": "text"
      },
      "source": [
        "#인공지능 사관학교 Pre-Course 과제목차"
      ]
    },
    {
      "cell_type": "markdown",
      "metadata": {
        "id": "5yOTDQM3YQKS",
        "colab_type": "text"
      },
      "source": [
        "### 1 주차 도전 (200601)\n",
        "\n"
      ]
    },
    {
      "cell_type": "markdown",
      "metadata": {
        "id": "1ORcA6P3vck8",
        "colab_type": "text"
      },
      "source": [
        "**AI 관련 언어, 음성, 이미지, 자율주행 분야에 실제 적용사례 분석**\n",
        "\n",
        "언어분야는 naver의 파파고가 대표적인 인공지능 사례입니다. 파파고는 번역할 내용을 입력하면 사용자가 원하는 언어로 번역하여 출력해주는 서비스입니다.\n",
        "\n",
        "[파파고홈](https://papago.naver.com/)\n",
        "\n",
        "두 번째로 음성분야는 카카오미니입니다. 카카오미니는 인공지능 스피커로 카카오를 호출하여 음성으로 택시를 예약하고 듣고싶은 음악을 재생하고 알람 및 타이머 등의 다양한 서비를 제공합니다.\n",
        "\n",
        "[카카오미니](https://kakao.ai/)\n",
        "\n",
        "세 번째는 이미지 분야로 삼성의 빅스비 비젼입니다. 해당 어플로 시중에서 구매한 제품을 카메라에 비추게되면 해당제품의 정보 및 가격, 온라인으로 구매 가능한 사이트로 이동할수 있게 도와주며 최근에는 시각장애인을 위한 TTS, 장면해설, 색상감지 등의 기술까지 구현하였습니다.\n",
        "\n",
        "[블로그](https://blog.naver.com/bhs7849/221975894336)\n",
        "\n",
        "네 번째는 자율주행입니다. 국내에서 보편적으로 적용된 사례로는 현대자동차의 스마트크루즈컨트롤입니다. 기본적으로 운전자가 설정한 속도로 자동으로 주행을 하며, 차선감지를 통해 핸들 조작, 앞차간격 및 주변상황에 따라 브레이크 발동, 과속단속카메라에 접근하게 되면 자동으로 규정속도로 주행할수 있게 도와줍니다."
      ]
    }
  ]
}